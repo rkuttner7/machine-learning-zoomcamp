{
 "cells": [
  {
   "cell_type": "markdown",
   "id": "e7b665c4",
   "metadata": {},
   "source": [
    "## Notes\n",
    "\n",
    "In general, the dataset is splitted into three parts: training, validation, and test. For each partition, we need to obtain feature matrices (X) and vectors of targets (y). First, the size of the partitions is calculated. Next, the records are shuffled to ensure that the values in the three partitions contain non-sequential records from the dataset. Finally, the partitions are created using the shuffled indices.\n",
    "\n",
    "**Pandas attributes and methods:** \n",
    "\n",
    "* `df.iloc[]` -> return subsets of records of a dataframe, being selected by numerical indices\n",
    "* `df.reset_index()` -> restate the orginal indices \n",
    "* `del df[col]` -> eliminate a column variable \n",
    "\n",
    "**Numpy methods:**\n",
    "\n",
    "* `np.arange()` -> return an array of numbers \n",
    "* `np.random.shuffle()` -> return a shuffled array\n",
    "* `np.random.seed()` -> set a seed for reproducibility"
   ]
  }
 ],
 "metadata": {
  "language_info": {
   "name": "python"
  }
 },
 "nbformat": 4,
 "nbformat_minor": 5
}
