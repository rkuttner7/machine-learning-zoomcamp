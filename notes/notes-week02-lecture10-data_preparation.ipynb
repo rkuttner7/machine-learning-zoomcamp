{
 "cells": [
  {
   "cell_type": "markdown",
   "id": "be56bbb2",
   "metadata": {},
   "source": [
    "## Notes\n",
    "\n",
    "**Pandas attributes and methods:** \n",
    "\n",
    "* `pd.read_csv(<file_path_string>)` -> read csv files \n",
    "* `df.head()` -> take a look of the dataframe \n",
    "* `df.columns` -> retrieve colum names of a dataframe \n",
    "* `df.columns.str.lower()` -> lowercase all the letters \n",
    "* `df.columns.str.replace(' ', '_')` -> replace the space separator \n",
    "* `df.dtypes` -> retrieve data types of all features \n",
    "* `df.index` -> retrieve indices of a dataframe"
   ]
  }
 ],
 "metadata": {
  "kernelspec": {
   "display_name": "datascience",
   "language": "python",
   "name": "python3"
  },
  "language_info": {
   "codemirror_mode": {
    "name": "ipython",
    "version": 3
   },
   "file_extension": ".py",
   "mimetype": "text/x-python",
   "name": "python",
   "nbconvert_exporter": "python",
   "pygments_lexer": "ipython3",
   "version": "3.12.3"
  }
 },
 "nbformat": 4,
 "nbformat_minor": 5
}
