{
 "cells": [
  {
   "cell_type": "markdown",
   "id": "5a4c933b",
   "metadata": {},
   "source": [
    "# Notes\n",
    "\n",
    "**Pandas attributes and methods:** \n",
    "\n",
    "* `df[col].unique()` -> return a list of unique values in the series \n",
    "* `df[col].nunique()` -> return the number of unique values in the series \n",
    "* `df.isnull().sum()` -> return the number of null values in the dataframe \n",
    "\n",
    "**Matplotlib and seaborn methods:**\n",
    "\n",
    "* `%matplotlib inline` -> assure that plots are displayed in jupyter notebook's cells\n",
    "* `sns.histplot()` -> show the histogram of a series \n",
    "   \n",
    "**Numpy methods:**\n",
    "* `np.log1p()` -> apply log transformation to a variable, after adding one to each input value.\n",
    "\n",
    "Long-tail distributions usually confuse the ML models, so the recommendation is to transform the target variable distribution to a normal one whenever possible. "
   ]
  },
  {
   "cell_type": "markdown",
   "id": "3dfa0bb7",
   "metadata": {},
   "source": []
  }
 ],
 "metadata": {
  "language_info": {
   "name": "python"
  }
 },
 "nbformat": 4,
 "nbformat_minor": 5
}
