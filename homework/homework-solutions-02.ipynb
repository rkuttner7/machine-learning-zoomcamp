{
 "cells": [
  {
   "cell_type": "markdown",
   "id": "1724ff66",
   "metadata": {},
   "source": [
    "# Solutions to homework week 2"
   ]
  },
  {
   "cell_type": "code",
   "execution_count": 73,
   "id": "d5f21112",
   "metadata": {},
   "outputs": [],
   "source": [
    "import pandas as pd\n",
    "import numpy as np\n",
    "\n",
    "import matplotlib.pyplot as plt\n",
    "import seaborn as sns\n",
    "\n",
    "%matplotlib inline"
   ]
  },
  {
   "cell_type": "code",
   "execution_count": 74,
   "id": "f16c9e6f",
   "metadata": {},
   "outputs": [],
   "source": [
    "# check working directory to debug path to loading\n",
    "#import os\n",
    "#os.getcwd()\n",
    "\n",
    "# load the data\n",
    "df = pd.read_csv('../data/car_fuel_efficiency.csv')"
   ]
  },
  {
   "cell_type": "markdown",
   "id": "f3a321a3",
   "metadata": {},
   "source": [
    "The goal of this homework is to create a regression model for predicting the car fuel efficiency (column `'fuel_efficiency_mpg'`).\n",
    "\n",
    "### Preparing the dataset \n",
    "\n",
    "Use only the following columns:\n",
    "\n",
    "* `'engine_displacement'`,\n",
    "* `'horsepower'`,\n",
    "* `'vehicle_weight'`,\n",
    "* `'model_year'`,\n",
    "* `'fuel_efficiency_mpg'`\n",
    "\n",
    "\n"
   ]
  },
  {
   "cell_type": "code",
   "execution_count": 75,
   "id": "c25e2c3e",
   "metadata": {},
   "outputs": [],
   "source": [
    "def prepare_X(df, impute = ['zero', 'mean']):\n",
    "    # columns of interest\n",
    "    col_interest = [\n",
    "        'engine_displacement'\n",
    "        , 'horsepower'\n",
    "        , 'vehicle_weight'\n",
    "        , 'model_year'\n",
    "        ]\n",
    "\n",
    "    # avoid modification of input dataframe\n",
    "    df = df[col_interest].copy()\n",
    "\n",
    "    # impute missing 'horsepower'\n",
    "    if impute == \"zero\":\n",
    "        df['horsepower'] = df['horsepower'].fillna(0)\n",
    "    elif impute == \"mean\":\n",
    "        df['horsepower'] = df['horsepower'].fillna(\n",
    "            df_train['horsepower'].mean())\n",
    "\n",
    "    # extract numpy array\n",
    "    X = df.values\n",
    "\n",
    "    return(df)"
   ]
  },
  {
   "cell_type": "code",
   "execution_count": 76,
   "id": "166d6db5",
   "metadata": {},
   "outputs": [],
   "source": [
    "def train_linear_regression(X, y):\n",
    "    ones = np.ones(X.shape[0])\n",
    "    X = np.column_stack([ones, X])\n",
    "    #graham matrix\n",
    "    XTX = X.T.dot(X)\n",
    "    XTX_inv = np.linalg.inv(XTX)\n",
    "    w = XTX_inv.dot(X.T).dot(y)\n",
    "    return(w[0], w[1:])"
   ]
  },
  {
   "cell_type": "code",
   "execution_count": 100,
   "id": "e303addd",
   "metadata": {},
   "outputs": [],
   "source": [
    "# RMSE\n",
    "def rmse(y, y_pred):\n",
    "    se = (y - y_pred) ** 2\n",
    "    mse = se.mean()\n",
    "    return np.sqrt(mse)"
   ]
  },
  {
   "cell_type": "code",
   "execution_count": 87,
   "id": "8b33c8f8",
   "metadata": {},
   "outputs": [],
   "source": [
    "def train_linear_regression_reg(X, y, r = 0.001):\n",
    "    ones = np.ones(X.shape[0])\n",
    "    X = np.column_stack([ones, X])\n",
    "    #graham matrix\n",
    "    XTX = X.T.dot(X)\n",
    "\n",
    "    # regularization\n",
    "    XTX_r = XTX + np.eye(XTX.shape[0]) * r\n",
    " \n",
    "    XTX_inv = np.linalg.inv(XTX_r)\n",
    "    w = XTX_inv.dot(X.T).dot(y)\n",
    "    return(w[0], w[1:])"
   ]
  },
  {
   "cell_type": "markdown",
   "id": "b1494918",
   "metadata": {},
   "source": [
    "### EDA\n",
    "\n",
    "* Look at the `fuel_efficiency_mpg` variable. Does it have a long tail? "
   ]
  },
  {
   "cell_type": "code",
   "execution_count": 78,
   "id": "89c6e2e1",
   "metadata": {},
   "outputs": [
    {
     "data": {
      "text/plain": [
       "<Axes: xlabel='fuel_efficiency_mpg', ylabel='Count'>"
      ]
     },
     "execution_count": 78,
     "metadata": {},
     "output_type": "execute_result"
    },
    {
     "data": {
      "image/png": "[encoded data removed]",
      "text/plain": [
       "<Figure size 640x480 with 1 Axes>"
      ]
     },
     "metadata": {},
     "output_type": "display_data"
    }
   ],
   "source": [
    "sns.histplot(df['fuel_efficiency_mpg'], bins=100)"
   ]
  },
  {
   "cell_type": "code",
   "execution_count": 79,
   "id": "3b59d937",
   "metadata": {},
   "outputs": [
    {
     "name": "stdout",
     "output_type": "stream",
     "text": [
      "min =  6.2 qtr25 =  13.27 mean =  14.99 qtr50 =  15.01 qtr75 =  16.71 max =  25.97\n"
     ]
    }
   ],
   "source": [
    "fuel_max = df['fuel_efficiency_mpg'].max()\n",
    "fuel_mean = df['fuel_efficiency_mpg'].mean()\n",
    "fuel_quantile = df['fuel_efficiency_mpg'].quantile([0.25, 0.5, 0.75])\n",
    "fuel_min = df['fuel_efficiency_mpg'].min()\n",
    "\n",
    "print(\n",
    "    'min = ', round(fuel_min, 2)\n",
    "    , 'qtr25 = ', round(fuel_quantile.iloc[0], 2)\n",
    "    , 'mean = ', round(fuel_mean, 2)\n",
    "    , 'qtr50 = ', round(fuel_quantile.iloc[1], 2)\n",
    "    , 'qtr75 = ', round(fuel_quantile.iloc[2], 2)\n",
    "    , 'max = ', round(fuel_max, 2)\n",
    "    )"
   ]
  },
  {
   "cell_type": "markdown",
   "id": "459fc0f8",
   "metadata": {},
   "source": [
    "### Question 1\n",
    "\n",
    "There's one column with missing values. What is it?\n",
    "\n",
    "* `'engine_displacement'`\n",
    "* `'horsepower'`\n",
    "* `'vehicle_weight'`\n",
    "* `'model_year'`"
   ]
  },
  {
   "cell_type": "code",
   "execution_count": 80,
   "id": "da9860e5",
   "metadata": {},
   "outputs": [
    {
     "data": {
      "text/plain": [
       "engine_displacement      0\n",
       "horsepower             708\n",
       "vehicle_weight           0\n",
       "model_year               0\n",
       "dtype: int64"
      ]
     },
     "execution_count": 80,
     "metadata": {},
     "output_type": "execute_result"
    }
   ],
   "source": [
    "df[['engine_displacement', 'horsepower', 'vehicle_weight', 'model_year']].isnull().sum()"
   ]
  },
  {
   "cell_type": "markdown",
   "id": "fd2331b8",
   "metadata": {},
   "source": [
    "### Question 2\n",
    "\n",
    "What's the median (50% percentile) for variable `'horsepower'`?\n"
   ]
  },
  {
   "cell_type": "code",
   "execution_count": 81,
   "id": "e3eb0c3e",
   "metadata": {},
   "outputs": [
    {
     "data": {
      "text/plain": [
       "np.float64(149.0)"
      ]
     },
     "execution_count": 81,
     "metadata": {},
     "output_type": "execute_result"
    }
   ],
   "source": [
    "df.horsepower.quantile(0.5)"
   ]
  },
  {
   "cell_type": "markdown",
   "id": "8270412f",
   "metadata": {},
   "source": [
    "### Prepare and split the dataset\n",
    "\n",
    "* Shuffle the dataset (the filtered one you created above), use seed `42`.\n",
    "* Split your data in train/val/test sets, with 60%/20%/20% distribution.\n",
    "\n",
    "Use the same code as in the lectures"
   ]
  },
  {
   "cell_type": "code",
   "execution_count": 82,
   "id": "b94826ee",
   "metadata": {},
   "outputs": [],
   "source": [
    "n = len(df)\n",
    "\n",
    "n_train = int(n * 0.6)\n",
    "n_val = int(n * 0.2)\n",
    "n_test = n - (n_train + n_val)\n",
    "\n",
    "idx = np.arange(n)\n",
    "np.random.seed(42)\n",
    "np.random.shuffle(idx)\n",
    "\n",
    "df_train = df.iloc[idx[:n_train]]\n",
    "df_val = df.iloc[idx[n_train:(n_train+n_val)]]\n",
    "df_test = df.iloc[idx[(n_train+n_val):]]\n",
    "\n",
    "# reset index (cosmetic)\n",
    "df_train = df_train.reset_index(drop=True)\n",
    "df_val = df_val.reset_index(drop=True)\n",
    "df_test = df_test.reset_index(drop=True)\n",
    "\n",
    "# extract numpy array `.values`\n",
    "y_train = df_train.fuel_efficiency_mpg.values\n",
    "y_val = df_val.fuel_efficiency_mpg.values\n",
    "y_test = df_test.fuel_efficiency_mpg.values\n",
    "\n",
    "# avoid information leakage into training\n",
    "del df_train['fuel_efficiency_mpg']\n",
    "del df_val['fuel_efficiency_mpg']\n",
    "del df_test['fuel_efficiency_mpg']\n",
    "\n",
    "#print(n, len(df_train)+len(df_val)+len(df_test),len(df_train), len(df_val), len(df_test))\n",
    "#df_train.head()\n"
   ]
  },
  {
   "cell_type": "markdown",
   "id": "2ccb7d1b",
   "metadata": {},
   "source": [
    "### Question 3\n",
    "\n",
    "* We need to deal with missing values for the column from Q1.\n",
    "* We have two options: fill it with 0 or with the mean of this variable.\n",
    "* Try both options. For each, train a linear regression model without regularization using the code from the lessons.\n",
    "* For computing the mean, use the training only!\n",
    "* Use the validation dataset to evaluate the models and compare the RMSE of each option.\n",
    "* Round the RMSE scores to 2 decimal digits using `round(score, 2)`\n",
    "* Which option gives better RMSE?"
   ]
  },
  {
   "cell_type": "code",
   "execution_count": 83,
   "id": "71cab320",
   "metadata": {},
   "outputs": [
    {
     "name": "stdout",
     "output_type": "stream",
     "text": [
      "RMSE (impute zero) =  0.52\n",
      "RMSE (impute mean) =  0.46\n"
     ]
    }
   ],
   "source": [
    "X_train_zero = prepare_X(df_train, 'zero')\n",
    "w0_zero, w_zero = train_linear_regression(X_train_zero, y_train)\n",
    "X_val_zero = prepare_X(df_val, 'zero')\n",
    "y_pred_zero = w0_zero + X_val_zero.dot(w_zero)\n",
    "rmse_zero = rmse(y_val, y_pred_zero)\n",
    "\n",
    "X_train_mean = prepare_X(df_train, 'mean')\n",
    "w0_mean, w_mean = train_linear_regression(X_train_mean, y_train)\n",
    "X_val_mean = prepare_X(df_val, 'mean')\n",
    "y_pred_mean = w0_mean + X_val_mean.dot(w_mean)\n",
    "rmse_mean = rmse(y_val, y_pred_mean)\n",
    "\n",
    "print('RMSE (impute zero) = ', round(rmse_zero, 2))\n",
    "print('RMSE (impute mean) = ', round(rmse_mean,2))"
   ]
  },
  {
   "cell_type": "markdown",
   "id": "f1e8b3bc",
   "metadata": {},
   "source": [
    "### Question 4\n",
    "\n",
    "* Now let's train a regularized linear regression.\n",
    "* For this question, fill the NAs with 0. \n",
    "* Try different values of `r` from this list: `[0, 0.01, 0.1, 1, 5, 10, 100]`.\n",
    "* Use RMSE to evaluate the model on the validation dataset.\n",
    "* Round the RMSE scores to 2 decimal digits.\n",
    "* Which `r` gives the best RMSE?\n",
    "\n",
    "If there are multiple options, select the smallest `r`."
   ]
  },
  {
   "cell_type": "code",
   "execution_count": null,
   "id": "00551895",
   "metadata": {},
   "outputs": [
    {
     "name": "stdout",
     "output_type": "stream",
     "text": [
      "(r =  0 ; RMSE =  0.5172 )\n",
      "(r =  0.01 ; RMSE =  0.5169 )\n",
      "(r =  0.1 ; RMSE =  0.5186 )\n",
      "(r =  1 ; RMSE =  0.5221 )\n",
      "(r =  5 ; RMSE =  0.5228 )\n",
      "(r =  10 ; RMSE =  0.5229 )\n",
      "(r =  100 ; RMSE =  0.523 )\n"
     ]
    }
   ],
   "source": [
    "X_train = prepare_X(df_train, 'zero')\n",
    "X_val = prepare_X(df_val, 'zero')\n",
    "\n",
    "for r in [0, 0.01, 0.1, 1, 5, 10, 100]:\n",
    "    w0, w = train_linear_regression_reg(X_train, y_train, r)\n",
    "    y_pred = w0 + X_val.dot(w)\n",
    "    rmse_r = rmse(y_val, y_pred)\n",
    "    print('(r = ', r, '; RMSE = ', round(rmse_r, 2), ')')\n"
   ]
  },
  {
   "cell_type": "markdown",
   "id": "1c9d9614",
   "metadata": {},
   "source": [
    "### Question 5 \n",
    "\n",
    "* We used seed 42 for splitting the data. Let's find out how selecting the seed influences our score.\n",
    "* Try different seed values: `[0, 1, 2, 3, 4, 5, 6, 7, 8, 9]`.\n",
    "* For each seed, do the train/validation/test split with 60%/20%/20% distribution.\n",
    "* Fill the missing values with 0 and train a model without regularization.\n",
    "* For each seed, evaluate the model on the validation dataset and collect the RMSE scores. \n",
    "* What's the standard deviation of all the scores? To compute the standard deviation, use `np.std`.\n",
    "* Round the result to 3 decimal digits (`round(std, 3)`)"
   ]
  },
  {
   "cell_type": "code",
   "execution_count": 105,
   "id": "653f4267",
   "metadata": {},
   "outputs": [
    {
     "data": {
      "text/plain": [
       "np.float64(0.007)"
      ]
     },
     "execution_count": 105,
     "metadata": {},
     "output_type": "execute_result"
    }
   ],
   "source": [
    "rmse_list = []\n",
    "for s in [0, 1, 2, 3, 4, 5, 6, 7, 8, 9]:\n",
    "    np.random.seed(s)\n",
    "\n",
    "    np.random.shuffle(idx)\n",
    "    df_train = df.iloc[idx[:n_train]]\n",
    "    df_val = df.iloc[idx[n_train:(n_train+n_val)]]\n",
    "\n",
    "    # reset index (cosmetic)\n",
    "    df_train = df_train.reset_index(drop=True)\n",
    "    df_val = df_val.reset_index(drop=True)\n",
    "\n",
    "    # extract numpy array `.values`\n",
    "    y_train = df_train.fuel_efficiency_mpg.values\n",
    "    y_val = df_val.fuel_efficiency_mpg.values\n",
    "\n",
    "    # avoid information leakage into training\n",
    "    del df_train['fuel_efficiency_mpg']\n",
    "    del df_val['fuel_efficiency_mpg']\n",
    "\n",
    "    X_train = prepare_X(df_train, 'zero')\n",
    "    X_val = prepare_X(df_val, 'zero')\n",
    "\n",
    "    w0, w = train_linear_regression_reg(X_train, y_train, r=0)\n",
    "    y_pred = w0 + X_val.dot(w)\n",
    "    rmse_s = rmse(y_val, y_pred)\n",
    "\n",
    "    rmse_list.append(rmse_s)\n",
    "\n",
    "std = np.std(rmse_list)\n",
    "round(std, 3)"
   ]
  },
  {
   "cell_type": "markdown",
   "id": "17b63b97",
   "metadata": {},
   "source": [
    "### Question 6\n",
    "\n",
    "* Split the dataset like previously, use seed 9.\n",
    "* Combine train and validation datasets.\n",
    "* Fill the missing values with 0 and train a model with `r=0.001`. \n",
    "* What's the RMSE on the test dataset?"
   ]
  },
  {
   "cell_type": "code",
   "execution_count": 109,
   "id": "77b63032",
   "metadata": {},
   "outputs": [
    {
     "data": {
      "text/plain": [
       "np.float64(0.506)"
      ]
     },
     "execution_count": 109,
     "metadata": {},
     "output_type": "execute_result"
    }
   ],
   "source": [
    "np.random.seed(9)\n",
    "\n",
    "np.random.shuffle(idx)\n",
    "df_train = df.iloc[idx[:n_train]]\n",
    "df_val = df.iloc[idx[n_train:(n_train+n_val)]]\n",
    "df_test = df.iloc[idx[(n_train+n_val):]]\n",
    "\n",
    "# reset index (cosmetic)\n",
    "df_train = df_train.reset_index(drop=True)\n",
    "df_val = df_val.reset_index(drop=True)\n",
    "df_test = df_test.reset_index(drop=True)\n",
    "\n",
    "# extract numpy array `.values`\n",
    "y_train = df_train.fuel_efficiency_mpg.values\n",
    "y_val = df_val.fuel_efficiency_mpg.values\n",
    "y_test = df_test.fuel_efficiency_mpg.values\n",
    "\n",
    "# avoid information leakage into training\n",
    "del df_train['fuel_efficiency_mpg']\n",
    "del df_val['fuel_efficiency_mpg']\n",
    "del df_test['fuel_efficiency_mpg']\n",
    "\n",
    "# Combine test and train\n",
    "df_full_train = pd.concat([df_train, df_val])\n",
    "df_full_train = df_full_train.reset_index(drop=True)\n",
    "y_full_train = np.concatenate([y_train, y_val])\n",
    "\n",
    "X_train = prepare_X(df_full_train, 'zero')\n",
    "X_test = prepare_X(df_test, 'zero')\n",
    "\n",
    "w0, w = train_linear_regression_reg(X_train, y_full_train, r=0.001)\n",
    "y_pred = w0 + X_test.dot(w)\n",
    "rmse_r = rmse(y_test, y_pred)\n",
    "\n",
    "round(rmse_r, 3)"
   ]
  }
 ],
 "metadata": {
  "kernelspec": {
   "display_name": "datascience",
   "language": "python",
   "name": "python3"
  },
  "language_info": {
   "codemirror_mode": {
    "name": "ipython",
    "version": 3
   },
   "file_extension": ".py",
   "mimetype": "text/x-python",
   "name": "python",
   "nbconvert_exporter": "python",
   "pygments_lexer": "ipython3",
   "version": "3.12.3"
  }
 },
 "nbformat": 4,
 "nbformat_minor": 5
}
