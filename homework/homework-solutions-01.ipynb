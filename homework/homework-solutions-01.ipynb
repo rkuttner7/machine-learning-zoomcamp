{
 "cells": [
  {
   "cell_type": "code",
   "execution_count": 59,
   "id": "bbe446cf",
   "metadata": {},
   "outputs": [],
   "source": [
    "import pandas as pd\n",
    "import numpy as np"
   ]
  },
  {
   "cell_type": "code",
   "execution_count": null,
   "id": "ed82b05a",
   "metadata": {},
   "outputs": [],
   "source": [
    "# load the data\n",
    "#import os\n",
    "#os.getcwd()\n",
    "df = pd.read_csv('../data/car_fuel_efficiency.csv')\n"
   ]
  },
  {
   "cell_type": "markdown",
   "id": "475060e8",
   "metadata": {},
   "source": [
    "## Question 1. Pandas version\n",
    "What's the version of Pandas that you installed?"
   ]
  },
  {
   "cell_type": "code",
   "execution_count": null,
   "id": "64ce3d72",
   "metadata": {},
   "outputs": [
    {
     "data": {
      "text/plain": [
       "'2.3.2'"
      ]
     },
     "execution_count": 1,
     "metadata": {},
     "output_type": "execute_result"
    }
   ],
   "source": [
    "pd.__version__"
   ]
  },
  {
   "cell_type": "markdown",
   "id": "83504fee",
   "metadata": {},
   "source": [
    "## Question 2. Records count\n",
    "How many records are in the dataset?\n"
   ]
  },
  {
   "cell_type": "code",
   "execution_count": 8,
   "id": "8f985a7d",
   "metadata": {},
   "outputs": [
    {
     "data": {
      "text/plain": [
       "9704"
      ]
     },
     "execution_count": 8,
     "metadata": {},
     "output_type": "execute_result"
    }
   ],
   "source": [
    "df.shape[0]"
   ]
  },
  {
   "cell_type": "markdown",
   "id": "856af872",
   "metadata": {},
   "source": [
    "## Question 3. Fuel types\n",
    "How many fuel types are presented in the dataset?"
   ]
  },
  {
   "cell_type": "code",
   "execution_count": 10,
   "id": "e5f054f6",
   "metadata": {},
   "outputs": [
    {
     "data": {
      "text/plain": [
       "2"
      ]
     },
     "execution_count": 10,
     "metadata": {},
     "output_type": "execute_result"
    }
   ],
   "source": [
    "df['fuel_type'].nunique()"
   ]
  },
  {
   "cell_type": "markdown",
   "id": "c7b34cc4",
   "metadata": {},
   "source": [
    "## Question 4. Missing values\n",
    "How many columns in the dataset have missing values?"
   ]
  },
  {
   "cell_type": "code",
   "execution_count": 17,
   "id": "890de40d",
   "metadata": {},
   "outputs": [
    {
     "data": {
      "text/plain": [
       "4"
      ]
     },
     "execution_count": 17,
     "metadata": {},
     "output_type": "execute_result"
    }
   ],
   "source": [
    "sum(df.isnull().sum() > 0)"
   ]
  },
  {
   "cell_type": "markdown",
   "id": "fd321292",
   "metadata": {},
   "source": [
    "## Question 5. Max fuel efficiency\n",
    "What's the maximum fuel efficiency of cars from Asia?"
   ]
  },
  {
   "cell_type": "code",
   "execution_count": 26,
   "id": "7d4a0eb3",
   "metadata": {},
   "outputs": [
    {
     "data": {
      "text/plain": [
       "23.76"
      ]
     },
     "execution_count": 26,
     "metadata": {},
     "output_type": "execute_result"
    }
   ],
   "source": [
    "round(df[df['origin'] == 'Asia'].fuel_efficiency_mpg.max(), 2)"
   ]
  },
  {
   "cell_type": "markdown",
   "id": "02583614",
   "metadata": {},
   "source": [
    "## Question 6. Median value of horsepower\n",
    "1. Find the median value of `horsepower` column in the dataset.\n",
    "2. Next, calculate the most frequent value of the same `horsepower` column.\n",
    "3. Use `fillna` method to fill the missing values in `horsepower` column with the most frequent value from the previous step.\n",
    "4. Now, calculate the median value of `horsepower` once again.\n",
    "\n",
    "Has it changed?"
   ]
  },
  {
   "cell_type": "code",
   "execution_count": 44,
   "id": "80e6de5d",
   "metadata": {},
   "outputs": [
    {
     "data": {
      "text/plain": [
       "149.0"
      ]
     },
     "execution_count": 44,
     "metadata": {},
     "output_type": "execute_result"
    }
   ],
   "source": [
    "med = df.horsepower.median()\n",
    "med"
   ]
  },
  {
   "cell_type": "code",
   "execution_count": 28,
   "id": "d74a4605",
   "metadata": {},
   "outputs": [
    {
     "data": {
      "text/plain": [
       "0    152.0\n",
       "Name: horsepower, dtype: float64"
      ]
     },
     "execution_count": 28,
     "metadata": {},
     "output_type": "execute_result"
    }
   ],
   "source": [
    "most_freq = df.horsepower.mode()\n",
    "most_freq"
   ]
  },
  {
   "cell_type": "code",
   "execution_count": 42,
   "id": "b8795f96",
   "metadata": {},
   "outputs": [
    {
     "data": {
      "text/plain": [
       "152.0"
      ]
     },
     "execution_count": 42,
     "metadata": {},
     "output_type": "execute_result"
    }
   ],
   "source": [
    "med_impute = df.horsepower.fillna(value=most_freq[0]).median()\n",
    "med_impute"
   ]
  },
  {
   "cell_type": "code",
   "execution_count": null,
   "id": "708a0481",
   "metadata": {},
   "outputs": [
    {
     "data": {
      "text/plain": [
       "3.0"
      ]
     },
     "execution_count": 46,
     "metadata": {},
     "output_type": "execute_result"
    }
   ],
   "source": [
    "# change in median after imputation using most frequent value\n",
    "med_impute - med"
   ]
  },
  {
   "cell_type": "markdown",
   "id": "5cfd7dd1",
   "metadata": {},
   "source": [
    "## Q7. Sum of weights\n",
    "\n",
    "1. Select all the cars from Asia\n",
    "2. Select only columns `vehicle_weight` and `model_year`\n",
    "3. Select the first 7 values\n",
    "4. Get the underlying NumPy array. Let's call it `X`.\n",
    "5. Compute matrix-matrix multiplication between the transpose of `X` and `X`. To get the transpose, use `X.T`. Let's call the result `XTX`.\n",
    "6. Invert `XTX`.\n",
    "7. Create an array `y` with values `[1100, 1300, 800, 900, 1000, 1100, 1200]`.\n",
    "8. Multiply the inverse of `XTX` with the transpose of `X`, and then multiply the result by `y`. Call the result `w`.\n",
    "9. What's the sum of all the elements of the result?"
   ]
  },
  {
   "cell_type": "code",
   "execution_count": 103,
   "id": "2f56676d",
   "metadata": {},
   "outputs": [],
   "source": [
    "X = df[['vehicle_weight', 'model_year']].head(7)"
   ]
  },
  {
   "cell_type": "code",
   "execution_count": 104,
   "id": "db672ac5",
   "metadata": {},
   "outputs": [],
   "source": [
    "XTX = X.T.dot(X)"
   ]
  },
  {
   "cell_type": "code",
   "execution_count": 105,
   "id": "cbe57039",
   "metadata": {},
   "outputs": [
    {
     "data": {
      "text/html": [
       "<div>\n",
       "<style scoped>\n",
       "    .dataframe tbody tr th:only-of-type {\n",
       "        vertical-align: middle;\n",
       "    }\n",
       "\n",
       "    .dataframe tbody tr th {\n",
       "        vertical-align: top;\n",
       "    }\n",
       "\n",
       "    .dataframe thead th {\n",
       "        text-align: right;\n",
       "    }\n",
       "</style>\n",
       "<table border=\"1\" class=\"dataframe\">\n",
       "  <thead>\n",
       "    <tr style=\"text-align: right;\">\n",
       "      <th></th>\n",
       "      <th>vehicle_weight</th>\n",
       "      <th>model_year</th>\n",
       "    </tr>\n",
       "  </thead>\n",
       "  <tbody>\n",
       "    <tr>\n",
       "      <th>vehicle_weight</th>\n",
       "      <td>6.470773e+07</td>\n",
       "      <td>4.247135e+07</td>\n",
       "    </tr>\n",
       "    <tr>\n",
       "      <th>model_year</th>\n",
       "      <td>4.247135e+07</td>\n",
       "      <td>2.826475e+07</td>\n",
       "    </tr>\n",
       "  </tbody>\n",
       "</table>\n",
       "</div>"
      ],
      "text/plain": [
       "                vehicle_weight    model_year\n",
       "vehicle_weight    6.470773e+07  4.247135e+07\n",
       "model_year        4.247135e+07  2.826475e+07"
      ]
     },
     "execution_count": 105,
     "metadata": {},
     "output_type": "execute_result"
    }
   ],
   "source": [
    "XTX\n"
   ]
  },
  {
   "cell_type": "code",
   "execution_count": 112,
   "id": "88abf6a8",
   "metadata": {},
   "outputs": [
    {
     "data": {
      "text/plain": [
       "array([[ 1.12464107e-06, -1.68991495e-06],\n",
       "       [-1.68991495e-06,  2.57468996e-06]])"
      ]
     },
     "execution_count": 112,
     "metadata": {},
     "output_type": "execute_result"
    }
   ],
   "source": [
    "XTX_inv = np.linalg.inv(XTX)\n",
    "XTX_inv"
   ]
  },
  {
   "cell_type": "code",
   "execution_count": 107,
   "id": "4096ebd6",
   "metadata": {},
   "outputs": [],
   "source": [
    "y = [1100, 1300, 800, 900, 1000, 1100, 1200]"
   ]
  },
  {
   "cell_type": "code",
   "execution_count": 110,
   "id": "43be26b1",
   "metadata": {},
   "outputs": [
    {
     "data": {
      "text/plain": [
       "array([0.07099685, 0.41931263])"
      ]
     },
     "execution_count": 110,
     "metadata": {},
     "output_type": "execute_result"
    }
   ],
   "source": [
    "#w = (XTX_inv * X.T)\n",
    "w = (XTX_inv.dot(X.transpose())).dot(y)\n",
    "w"
   ]
  },
  {
   "cell_type": "code",
   "execution_count": 115,
   "id": "f06923da",
   "metadata": {},
   "outputs": [
    {
     "data": {
      "text/plain": [
       "np.float64(0.4903)"
      ]
     },
     "execution_count": 115,
     "metadata": {},
     "output_type": "execute_result"
    }
   ],
   "source": [
    "round(w.sum(),4)"
   ]
  },
  {
   "cell_type": "code",
   "execution_count": 132,
   "id": "583fb32e",
   "metadata": {},
   "outputs": [
    {
     "data": {
      "text/plain": [
       "array([0.07099685, 0.41931263])"
      ]
     },
     "execution_count": 132,
     "metadata": {},
     "output_type": "execute_result"
    }
   ],
   "source": [
    "# check coefficents match \n",
    "from sklearn.linear_model import LinearRegression\n",
    "\n",
    "regressor = LinearRegression(fit_intercept=False).fit(X, y)\n",
    "\n",
    "regressor.coef_\n"
   ]
  },
  {
   "cell_type": "code",
   "execution_count": null,
   "id": "052e420b",
   "metadata": {},
   "outputs": [
    {
     "data": {
      "text/plain": [
       "np.float64(0.49)"
      ]
     },
     "execution_count": 135,
     "metadata": {},
     "output_type": "execute_result"
    }
   ],
   "source": [
    "round(regressor.coef_.sum(),2)"
   ]
  }
 ],
 "metadata": {
  "kernelspec": {
   "display_name": "datascience",
   "language": "python",
   "name": "python3"
  },
  "language_info": {
   "codemirror_mode": {
    "name": "ipython",
    "version": 3
   },
   "file_extension": ".py",
   "mimetype": "text/x-python",
   "name": "python",
   "nbconvert_exporter": "python",
   "pygments_lexer": "ipython3",
   "version": "3.12.3"
  }
 },
 "nbformat": 4,
 "nbformat_minor": 5
}
